{
 "cells": [
  {
   "cell_type": "code",
   "execution_count": 1,
   "metadata": {},
   "outputs": [],
   "source": [
    "# Tensor is a fundamental data structure that represents multi-dimensional arrays. \n",
    "# Tensors can be of various dimensions, including: \n",
    "# 1. scalars (0-dimensional tensors)\n",
    "# 2. vectors (1-dimensional tensors)\n",
    "# 3. matrices (2-dimensional tensors)\n",
    "# 4. higher-dimensional arrays\n",
    "# Tensor libraries, such as TensorFlow and PyTorch, provide efficient implementations of tensor operations and \n",
    "# are widely used in machine learning frameworks for building and training neural networks.\n",
    "\n",
    "import torch"
   ]
  },
  {
   "cell_type": "code",
   "execution_count": 2,
   "metadata": {},
   "outputs": [],
   "source": [
    "with open('wizard_of_oz.txt', 'r', encoding='utf-8') as f:\n",
    "    text = f.read()\n",
    "chars = sorted(set(text))\n",
    "vocabulary_size=len(chars)"
   ]
  },
  {
   "cell_type": "code",
   "execution_count": 3,
   "metadata": {},
   "outputs": [
    {
     "name": "stdout",
     "output_type": "stream",
     "text": [
      "['\\n', ' ', '!', '(', ')', ',', '-', '.', ':', ';', '?', 'A', 'B', 'C', 'D', 'E', 'F', 'G', 'H', 'I', 'J', 'K', 'L', 'M', 'N', 'O', 'P', 'Q', 'R', 'S', 'T', 'U', 'V', 'W', 'X', 'Y', 'Z', 'a', 'b', 'c', 'd', 'e', 'f', 'g', 'h', 'i', 'j', 'k', 'l', 'm', 'n', 'o', 'p', 'q', 'r', 's', 't', 'u', 'v', 'w', 'x', 'y', 'z', '—', '‘', '’', '“', '”']\n",
      "68\n"
     ]
    }
   ],
   "source": [
    "print(chars)\n",
    "print(vocabulary_size)"
   ]
  },
  {
   "cell_type": "code",
   "execution_count": 4,
   "metadata": {},
   "outputs": [],
   "source": [
    "string_to_int = {ch:i for i,ch in enumerate(chars)}\n",
    "int_to_string = {i:ch for i,ch in enumerate(chars)}\n",
    "## lambda is a keyowrd for defining anonymous function\n",
    "encode = lambda s: [string_to_int[c] for c in s]\n",
    "decode = lambda l: ''.join([int_to_string[i] for i in l])\n",
    "\n",
    "data = torch.tensor(encode(text), dtype=torch.long)"
   ]
  },
  {
   "cell_type": "code",
   "execution_count": 6,
   "metadata": {},
   "outputs": [],
   "source": [
    "# Tokenization - the process of converting a sequence of text into smaller parts, known as tokens\n",
    "    ## we are using character tokenizer\n",
    "    ## we can also use word tokenizer\n",
    "    ## we can also use subword tokenizer (between word and character)"
   ]
  },
  {
   "cell_type": "code",
   "execution_count": 12,
   "metadata": {},
   "outputs": [],
   "source": [
    "encoded_hello = encode(\"hello\")\n",
    "decoded_hello = decode(encoded_hello)"
   ]
  },
  {
   "cell_type": "code",
   "execution_count": 13,
   "metadata": {},
   "outputs": [
    {
     "name": "stdout",
     "output_type": "stream",
     "text": [
      "[44, 41, 48, 48, 51]\n",
      "hello\n",
      "205515\n",
      "tensor([30, 44, 41,  1, 33, 51, 50, 40, 41, 54, 42, 57, 48,  1, 33, 45, 62, 37,\n",
      "        54, 40,  1, 51, 42,  1, 25, 62,  0,  0, 13, 44, 37, 52, 56, 41, 54,  1,\n",
      "        19,  0, 30, 44, 41,  1, 13, 61, 39, 48, 51, 50, 41,  0,  0, 14, 51, 54,\n",
      "        51, 56, 44, 61,  1, 48, 45, 58, 41, 40,  1, 45, 50,  1, 56, 44, 41,  1,\n",
      "        49, 45, 40, 55, 56,  1, 51, 42,  1, 56, 44, 41,  1, 43, 54, 41, 37, 56,\n",
      "         1, 21, 37, 50, 55, 37, 55,  1, 52, 54])\n"
     ]
    }
   ],
   "source": [
    "print(encoded_hello)\n",
    "print(decoded_hello)\n",
    "print(len(data))\n",
    "print(data[:100])"
   ]
  },
  {
   "cell_type": "code",
   "execution_count": null,
   "metadata": {},
   "outputs": [],
   "source": [
    "# Splitting to validation and train sets\n",
    "    # Train set consists of 80% of data from dataset on which we are going to create our model. \n",
    "    # We are doing this se we are sure our model is unique and we have a way to validate it (validation set)\n",
    "\n",
    "# Bigram\n",
    "    # Pair of consecutive written units such as letters, syllables or words\n",
    "    # HRV - bigram ili digram je niz susjednih elemenata iz niza tokena koji su obično slova, slogovi ili riječi\n",
    "        # Bigram je n-gram za n=2\n",
    "    # BIGRAM LLM - we are giving a character and are predicting next. It is only going to consider previous and predict next.\n",
    "\n",
    "# Block size - take small random snippet from text corpus and make some prediction and targets out of that\n",
    "    # it is bunch of encoded characters we have predictions for\n",
    "    # checks block by block of a tensor\n",
    "    # how much is prediction from the target"
   ]
  },
  {
   "cell_type": "code",
   "execution_count": 8,
   "metadata": {},
   "outputs": [],
   "source": [
    "n = int(0.8*len(data))\n",
    "train_data = data[:n]\n",
    "val_data = data[n:]"
   ]
  },
  {
   "cell_type": "code",
   "execution_count": 14,
   "metadata": {},
   "outputs": [
    {
     "name": "stdout",
     "output_type": "stream",
     "text": [
      "8\n",
      "8\n",
      "When input is tensor([30]) target is tensor(44)\n",
      "When input is tensor([30, 44]) target is tensor(41)\n",
      "When input is tensor([30, 44, 41]) target is tensor(1)\n",
      "When input is tensor([30, 44, 41,  1]) target is tensor(33)\n",
      "When input is tensor([30, 44, 41,  1, 33]) target is tensor(51)\n",
      "When input is tensor([30, 44, 41,  1, 33, 51]) target is tensor(50)\n",
      "When input is tensor([30, 44, 41,  1, 33, 51, 50]) target is tensor(40)\n",
      "When input is tensor([30, 44, 41,  1, 33, 51, 50, 40]) target is tensor(41)\n"
     ]
    }
   ],
   "source": [
    "# sequential\n",
    "\n",
    "block_size = 8\n",
    "\n",
    "x = train_data[:block_size] # predictions - [:block_size] extracts train_data up to, but not including, the element at block_size\n",
    "y = train_data[1:block_size+1] # targets - [1:block_size+1] extracts train_data from element at index 1 up to, but not including, the element at block_size+1\n",
    "\n",
    "for t in range(block_size):\n",
    "    context = x[:t+1]\n",
    "    target=y[t]\n",
    "    print('When input is', context, 'target is', target)\n",
    "    "
   ]
  },
  {
   "cell_type": "code",
   "execution_count": null,
   "metadata": {},
   "outputs": [],
   "source": []
  }
 ],
 "metadata": {
  "kernelspec": {
   "display_name": "Python 3 (ipykernel)",
   "language": "python",
   "name": "python3"
  },
  "language_info": {
   "codemirror_mode": {
    "name": "ipython",
    "version": 3
   },
   "file_extension": ".py",
   "mimetype": "text/x-python",
   "name": "python",
   "nbconvert_exporter": "python",
   "pygments_lexer": "ipython3",
   "version": "3.10.12"
  }
 },
 "nbformat": 4,
 "nbformat_minor": 4
}
