{
 "cells": [
  {
   "cell_type": "code",
   "execution_count": 2,
   "metadata": {},
   "outputs": [],
   "source": [
    "# Tensor is a fundamental data structure that represents multi-dimensional arrays. \n",
    "# Tensors can be of various dimensions, including: \n",
    "# 1. scalars (0-dimensional tensors)\n",
    "# 2. vectors (1-dimensional tensors)\n",
    "# 3. matrices (2-dimensional tensors)\n",
    "# 4. higher-dimensional arrays\n",
    "# Tensor libraries, such as TensorFlow and PyTorch, provide efficient implementations of tensor operations and \n",
    "# are widely used in machine learning frameworks for building and training neural networks.\n",
    "\n",
    "import torch"
   ]
  },
  {
   "cell_type": "code",
   "execution_count": 3,
   "metadata": {},
   "outputs": [],
   "source": [
    "with open('wizard_of_oz.txt', 'r', encoding='utf-8') as f:\n",
    "    text = f.read()\n",
    "chars = sorted(set(text))\n",
    "vocabulary_size=len(chars)"
   ]
  },
  {
   "cell_type": "code",
   "execution_count": 4,
   "metadata": {},
   "outputs": [
    {
     "name": "stdout",
     "output_type": "stream",
     "text": [
      "['\\n', ' ', '!', '(', ')', ',', '-', '.', ':', ';', '?', 'A', 'B', 'C', 'D', 'E', 'F', 'G', 'H', 'I', 'J', 'K', 'L', 'M', 'N', 'O', 'P', 'Q', 'R', 'S', 'T', 'U', 'V', 'W', 'X', 'Y', 'Z', 'a', 'b', 'c', 'd', 'e', 'f', 'g', 'h', 'i', 'j', 'k', 'l', 'm', 'n', 'o', 'p', 'q', 'r', 's', 't', 'u', 'v', 'w', 'x', 'y', 'z', '—', '‘', '’', '“', '”']\n",
      "68\n"
     ]
    }
   ],
   "source": [
    "print(chars)\n",
    "print(vocabulary_size)"
   ]
  },
  {
   "cell_type": "code",
   "execution_count": 5,
   "metadata": {},
   "outputs": [],
   "source": [
    "string_to_int = {ch:i for i,ch in enumerate(chars)}\n",
    "int_to_string = {i:ch for i,ch in enumerate(chars)}\n",
    "encode = lambda s: [string_to_int[c] for c in s]\n",
    "decode = lambda l: ''.join([int_to_string[i] for i in l])\n",
    "\n",
    "data = torch.tensor(encode(text), dtype=torch.long)"
   ]
  },
  {
   "cell_type": "code",
   "execution_count": null,
   "metadata": {},
   "outputs": [],
   "source": []
  },
  {
   "cell_type": "code",
   "execution_count": 6,
   "metadata": {},
   "outputs": [],
   "source": [
    "# Tokenization - the process of converting a sequence of text into smaller parts, known as tokens"
   ]
  },
  {
   "cell_type": "code",
   "execution_count": 7,
   "metadata": {},
   "outputs": [],
   "source": [
    "encoded_hello = encode(\"Hello\")\n",
    "decoded_hello = decode(encoded_hello)"
   ]
  },
  {
   "cell_type": "code",
   "execution_count": 10,
   "metadata": {},
   "outputs": [
    {
     "name": "stdout",
     "output_type": "stream",
     "text": [
      "[18, 41, 48, 48, 51]\n",
      "Hello\n",
      "205515\n",
      "tensor([30, 44, 41,  1, 33, 51, 50, 40, 41, 54, 42, 57, 48,  1, 33, 45, 62, 37,\n",
      "        54, 40,  1, 51, 42,  1, 25, 62,  0,  0, 13, 44, 37, 52, 56, 41, 54,  1,\n",
      "        19,  0, 30, 44, 41,  1, 13, 61, 39, 48, 51, 50, 41,  0,  0, 14, 51, 54,\n",
      "        51, 56, 44, 61,  1, 48, 45, 58, 41, 40,  1, 45, 50,  1, 56, 44, 41,  1,\n",
      "        49, 45, 40, 55, 56,  1, 51, 42,  1, 56, 44, 41,  1, 43, 54, 41, 37, 56,\n",
      "         1, 21, 37, 50, 55, 37, 55,  1, 52, 54, 37, 45, 54, 45, 41, 55,  5,  1,\n",
      "        59, 45, 56, 44,  1, 31, 50, 39, 48, 41,  0, 18, 41, 50, 54, 61,  5,  1,\n",
      "        59, 44, 51,  1, 59, 37, 55,  1, 37,  1, 42, 37, 54, 49, 41, 54,  5,  1,\n",
      "        37, 50, 40,  1, 11, 57, 50, 56,  1, 15, 49,  5,  1, 59, 44, 51,  1, 59,\n",
      "        37, 55,  1, 56, 44, 41,  1, 42, 37, 54, 49, 41, 54, 65, 55,  1, 59, 45,\n",
      "        42, 41,  7,  1, 30, 44, 41, 45, 54,  0, 44, 51, 57, 55, 41,  1, 59, 37,\n",
      "        55,  1, 55, 49, 37, 48, 48,  5,  1, 42, 51, 54,  1, 56, 44, 41,  1, 48,\n",
      "        57, 49, 38, 41, 54,  1, 56, 51,  1, 38, 57, 45, 48, 40,  1, 45, 56,  1,\n",
      "        44, 37, 40,  1, 56, 51,  1, 38, 41,  1, 39, 37, 54, 54, 45, 41, 40,  1,\n",
      "        38, 61,  1, 59, 37, 43, 51, 50,  0, 49, 37, 50, 61,  1, 49, 45, 48, 41,\n",
      "        55,  7,  1, 30, 44, 41, 54, 41,  1, 59, 41, 54, 41,  1, 42, 51, 57, 54,\n",
      "         1, 59, 37, 48, 48, 55,  5,  1, 37,  1, 42, 48, 51, 51, 54,  1, 37, 50,\n",
      "        40,  1, 37,  1, 54, 51, 51, 42,  5,  1, 59, 44, 45, 39, 44,  1, 49, 37,\n",
      "        40, 41,  1, 51, 50, 41,  0, 54, 51, 51, 49,  9,  1, 37, 50, 40,  1, 56,\n",
      "        44, 45, 55,  1, 54, 51, 51, 49,  1, 39, 51, 50, 56, 37, 45, 50, 41, 40,\n",
      "         1, 37,  1, 54, 57, 55, 56, 61,  1, 48, 51, 51, 47, 45, 50, 43,  1, 39,\n",
      "        51, 51, 47, 55, 56, 51, 58, 41,  5,  1, 37,  1, 39, 57, 52, 38, 51, 37,\n",
      "        54, 40,  1, 42])\n"
     ]
    }
   ],
   "source": [
    "print(encoded_hello)\n",
    "print(decoded_hello)\n",
    "print(len(data))\n",
    "print(data[:400])"
   ]
  },
  {
   "cell_type": "code",
   "execution_count": null,
   "metadata": {},
   "outputs": [],
   "source": []
  },
  {
   "cell_type": "code",
   "execution_count": null,
   "metadata": {},
   "outputs": [],
   "source": []
  },
  {
   "cell_type": "code",
   "execution_count": null,
   "metadata": {},
   "outputs": [],
   "source": [
    "# Splitting to validation and train sets\n",
    "    # Train set consists of 80% of data from dataset on which we are going to create our model. \n",
    "    # We are doing this se we are sure our model is unique and we have a way to validate it (validation set)\n",
    "\n",
    "# Bigram\n",
    "    # Pair of consecutive written units such as letters, syllables or words\n",
    "    # HRV - bigram ili digram je niz susjednih elemenata iz niza tokena koji su obično slova, slogovi ili riječi\n",
    "        # Bigram je n-gram za n=2"
   ]
  },
  {
   "cell_type": "code",
   "execution_count": null,
   "metadata": {},
   "outputs": [],
   "source": []
  },
  {
   "cell_type": "code",
   "execution_count": null,
   "metadata": {},
   "outputs": [],
   "source": []
  },
  {
   "cell_type": "code",
   "execution_count": null,
   "metadata": {},
   "outputs": [],
   "source": []
  },
  {
   "cell_type": "code",
   "execution_count": null,
   "metadata": {},
   "outputs": [],
   "source": []
  },
  {
   "cell_type": "code",
   "execution_count": null,
   "metadata": {},
   "outputs": [],
   "source": []
  },
  {
   "cell_type": "code",
   "execution_count": null,
   "metadata": {},
   "outputs": [],
   "source": []
  },
  {
   "cell_type": "code",
   "execution_count": null,
   "metadata": {},
   "outputs": [],
   "source": []
  },
  {
   "cell_type": "code",
   "execution_count": null,
   "metadata": {},
   "outputs": [],
   "source": []
  },
  {
   "cell_type": "code",
   "execution_count": null,
   "metadata": {},
   "outputs": [],
   "source": []
  },
  {
   "cell_type": "code",
   "execution_count": null,
   "metadata": {},
   "outputs": [],
   "source": []
  }
 ],
 "metadata": {
  "kernelspec": {
   "display_name": "cuda-gpt",
   "language": "python",
   "name": "cuda"
  }
 },
 "nbformat": 4,
 "nbformat_minor": 4
}
